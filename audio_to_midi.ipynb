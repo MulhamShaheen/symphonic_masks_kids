{
 "cells": [
  {
   "cell_type": "code",
   "execution_count": 1,
   "metadata": {
    "ExecuteTime": {
     "end_time": "2023-12-24T08:56:17.454939500Z",
     "start_time": "2023-12-24T08:56:02.869453100Z"
    }
   },
   "outputs": [
    {
     "name": "stdout",
     "output_type": "stream",
     "text": [
      "WARNING:tensorflow:From C:\\Users\\user\\.virtualenvs\\KIDS\\lib\\site-packages\\keras\\src\\losses.py:2976: The name tf.losses.sparse_softmax_cross_entropy is deprecated. Please use tf.compat.v1.losses.sparse_softmax_cross_entropy instead.\n",
      "\n"
     ]
    }
   ],
   "source": [
    "from basic_pitch.inference import predict\n",
    "import pretty_midi\n",
    "from basic_pitch import ICASSP_2022_MODEL_PATH\n",
    "from IPython.display import Audio"
   ]
  },
  {
   "cell_type": "code",
   "execution_count": 2,
   "metadata": {
    "ExecuteTime": {
     "end_time": "2023-12-24T08:56:20.832187900Z",
     "start_time": "2023-12-24T08:56:17.454939500Z"
    },
    "collapsed": false,
    "jupyter": {
     "outputs_hidden": false
    }
   },
   "outputs": [
    {
     "name": "stdout",
     "output_type": "stream",
     "text": [
      "Predicting MIDI for data/forest.m4a...\n"
     ]
    },
    {
     "name": "stderr",
     "output_type": "stream",
     "text": [
      "C:\\Users\\user\\.virtualenvs\\KIDS\\lib\\site-packages\\basic_pitch\\inference.py:89: UserWarning: PySoundFile failed. Trying audioread instead.\n",
      "  audio_original, _ = librosa.load(str(audio_path), sr=AUDIO_SAMPLE_RATE, mono=True)\n",
      "C:\\Users\\user\\.virtualenvs\\KIDS\\lib\\site-packages\\librosa\\core\\audio.py:183: FutureWarning: librosa.core.audio.__audioread_load\n",
      "\tDeprecated as of librosa version 0.10.0.\n",
      "\tIt will be removed in librosa version 1.0.\n",
      "  y, sr_native = __audioread_load(path, offset, duration, dtype)\n"
     ]
    }
   ],
   "source": [
    "model_output, midi_data, note_events = predict(\"data/forest.m4a\")\n"
   ]
  },
  {
   "cell_type": "code",
   "execution_count": 3,
   "metadata": {
    "ExecuteTime": {
     "end_time": "2023-12-24T08:56:20.848708600Z",
     "start_time": "2023-12-24T08:56:20.837194600Z"
    },
    "collapsed": false,
    "jupyter": {
     "outputs_hidden": false
    }
   },
   "outputs": [],
   "source": [
    "def midi_to_notes(midi_data):\n",
    "    notes = []\n",
    "    beats_per_second = midi_data.estimate_tempo() / 60\n",
    "    avg_note_time = 1 / beats_per_second\n",
    "    print(avg_note_time)\n",
    "    for instrument in midi_data.instruments:\n",
    "        for i, note in enumerate(instrument.notes):\n",
    "            note_time = note.end - note.start\n",
    "            if note_time / avg_note_time < 0.1 \\\n",
    "                and i > 0:\n",
    "                print(note_time / avg_note_time)\n",
    "\n",
    "                print(note.pitch)\n",
    "                if note.pitch == instrument.notes[i-1].pitch:\n",
    "                    instrument.notes[i-1].end = note.end\n",
    "                    continue\n",
    "\n",
    "            notes.append(note)\n",
    "            last_note = note\n",
    "\n",
    "    return notes"
   ]
  },
  {
   "cell_type": "code",
   "execution_count": 4,
   "metadata": {
    "ExecuteTime": {
     "end_time": "2023-12-24T08:56:43.548840700Z",
     "start_time": "2023-12-24T08:56:43.524224900Z"
    },
    "collapsed": false,
    "jupyter": {
     "outputs_hidden": false
    }
   },
   "outputs": [
    {
     "name": "stdout",
     "output_type": "stream",
     "text": [
      "0.4008651927437641\n"
     ]
    },
    {
     "data": {
      "text/plain": [
       "[Note(start=0.661769, end=1.091338, pitch=60, velocity=93),\n",
       " Note(start=1.102948, end=1.509297, pitch=69, velocity=95),\n",
       " Note(start=1.509297, end=1.892426, pitch=69, velocity=93),\n",
       " Note(start=1.904036, end=2.242010, pitch=67, velocity=86),\n",
       " Note(start=2.288449, end=2.683189, pitch=69, velocity=89),\n",
       " Note(start=2.683189, end=3.066318, pitch=65, velocity=89),\n",
       " Note(start=3.101148, end=3.507497, pitch=60, velocity=91),\n",
       " Note(start=3.507497, end=3.913846, pitch=60, velocity=94),\n",
       " Note(start=3.913846, end=4.286649, pitch=60, velocity=89),\n",
       " Note(start=4.309869, end=4.855538, pitch=69, velocity=95),\n",
       " Note(start=4.855538, end=5.099348, pitch=69, velocity=84),\n",
       " Note(start=5.134178, end=5.494087, pitch=70, velocity=91),\n",
       " Note(start=5.505697, end=5.865606, pitch=74, velocity=88),\n",
       " Note(start=5.958486, end=6.876958, pitch=72, velocity=94),\n",
       " Note(start=6.760859, end=6.946618, pitch=67, velocity=54),\n",
       " Note(start=7.039498, end=7.445847, pitch=72, velocity=92),\n",
       " Note(start=7.469067, end=7.875416, pitch=62, velocity=93),\n",
       " Note(start=7.875416, end=8.248220, pitch=62, velocity=91),\n",
       " Note(start=8.271439, end=8.677789, pitch=70, velocity=85),\n",
       " Note(start=8.677789, end=9.049308, pitch=70, velocity=84),\n",
       " Note(start=9.072528, end=9.467267, pitch=69, velocity=95),\n",
       " Note(start=9.467267, end=9.827176, pitch=67, velocity=85),\n",
       " Note(start=9.862006, end=10.211590, pitch=65, velocity=77),\n",
       " Note(start=10.258029, end=10.652769, pitch=60, velocity=86),\n",
       " Note(start=10.664379, end=11.070728, pitch=69, velocity=90),\n",
       " Note(start=11.070728, end=11.430637, pitch=69, velocity=89),\n",
       " Note(start=11.500297, end=11.778937, pitch=67, velocity=81),\n",
       " Note(start=11.836986, end=12.233010, pitch=69, velocity=83),\n",
       " Note(start=12.244620, end=13.231468, pitch=65, velocity=98),\n",
       " Note(start=12.801898, end=13.185028, pitch=73, velocity=43)]"
      ]
     },
     "execution_count": 4,
     "metadata": {},
     "output_type": "execute_result"
    }
   ],
   "source": [
    "notes = midi_to_notes(midi_data)\n",
    "notes\n"
   ]
  },
  {
   "cell_type": "code",
   "execution_count": 10,
   "metadata": {
    "ExecuteTime": {
     "end_time": "2023-12-24T08:58:09.580990600Z",
     "start_time": "2023-12-24T08:58:08.578085600Z"
    },
    "collapsed": false,
    "jupyter": {
     "outputs_hidden": false
    }
   },
   "outputs": [],
   "source": [
    "import numpy as np\n",
    "from bokeh.layouts import layout\n",
    "from bokeh.models import Div\n",
    "from bokeh.plotting import figure, show\n",
    "\n",
    "# create a plot demonstrating a sine wave\n",
    "p1 = figure(height=300)\n",
    "\n",
    "p1.xaxis.fixed_location = 0\n",
    "\n",
    "# create a plot demonstrating a cosine wave\n",
    "p2 = figure(height=300)\n",
    "\n",
    "for note in notes:\n",
    "    p1.line((note.start, note.end), note.pitch, line_width=7, line_color=\"darkgreen\")\n",
    "    \n",
    "for i, note in enumerate(notes):\n",
    "    if i % 3 == 0:\n",
    "        p2.line((note.start, note.end), note.pitch + i%6 + 1, line_width=7, line_color=\"red\")\n",
    "        continue\n",
    "    p2.line((note.start, note.end), note.pitch, line_width=7, line_color=\"darkgreen\")\n",
    "\n",
    "p2.xaxis.fixed_location = 0\n",
    "\n",
    "# define the layout\n",
    "layout = layout(\n",
    "    [\n",
    "        p1,\n",
    "        p2,\n",
    "    ],\n",
    "    sizing_mode=\"stretch_width\",\n",
    ")\n",
    "\n",
    "show(layout)"
   ]
  },
  {
   "cell_type": "code",
   "execution_count": 6,
   "metadata": {
    "ExecuteTime": {
     "end_time": "2023-12-22T16:25:47.489935500Z",
     "start_time": "2023-12-22T16:25:47.376478Z"
    },
    "collapsed": false,
    "jupyter": {
     "outputs_hidden": false
    }
   },
   "outputs": [
    {
     "name": "stdout",
     "output_type": "stream",
     "text": [
      "start: 0.6617687074829932 end: 1.0913378684807256\n",
      "C4 60\n",
      "---------------\n",
      "start: 1.1029478458049886 end: 1.509297052154195\n",
      "A4 69\n",
      "---------------\n",
      "start: 1.509297052154195 end: 1.8924263038548752\n",
      "A4 69\n",
      "---------------\n",
      "start: 1.9040362811791383 end: 2.2420095238095237\n",
      "G4 67\n",
      "---------------\n",
      "start: 2.288449433106576 end: 2.6831886621315193\n",
      "A4 69\n",
      "---------------\n",
      "start: 2.6831886621315193 end: 3.0663179138321994\n",
      "F4 65\n",
      "---------------\n",
      "start: 3.1011478458049884 end: 3.507497052154195\n",
      "C4 60\n",
      "---------------\n",
      "start: 3.507497052154195 end: 3.9138462585034013\n",
      "C4 60\n",
      "---------------\n",
      "start: 3.9138462585034013 end: 4.286649433106576\n",
      "C4 60\n",
      "---------------\n",
      "start: 4.309869387755102 end: 4.855538321995465\n",
      "A4 69\n",
      "---------------\n",
      "start: 4.855538321995465 end: 5.099347845804989\n",
      "A4 69\n",
      "---------------\n",
      "start: 5.1341777777777775 end: 5.494087074829932\n",
      "A#4 70\n",
      "---------------\n",
      "start: 5.505697052154195 end: 5.865606349206349\n",
      "D5 74\n",
      "---------------\n",
      "start: 5.958486167800453 end: 6.876958276643991\n",
      "C5 72\n",
      "---------------\n",
      "start: 6.76085850340136 end: 6.946618140589569\n",
      "G4 67\n",
      "---------------\n",
      "start: 7.039497959183674 end: 7.44584716553288\n",
      "C5 72\n",
      "---------------\n",
      "start: 7.469067120181406 end: 7.875416326530613\n",
      "D4 62\n",
      "---------------\n",
      "start: 7.875416326530613 end: 8.248219501133786\n",
      "D4 62\n",
      "---------------\n",
      "start: 8.271439455782312 end: 8.677788662131519\n",
      "A#4 70\n",
      "---------------\n",
      "start: 8.677788662131519 end: 9.049307936507937\n",
      "A#4 70\n",
      "---------------\n",
      "start: 9.072527891156462 end: 9.467267120181406\n",
      "A4 69\n",
      "---------------\n",
      "start: 9.467267120181406 end: 9.82717641723356\n",
      "G4 67\n",
      "---------------\n",
      "start: 9.862006349206348 end: 10.211589569161\n",
      "F4 65\n",
      "---------------\n",
      "start: 10.25802947845805 end: 10.652768707482995\n",
      "C4 60\n",
      "---------------\n",
      "start: 10.664378684807257 end: 11.070727891156464\n",
      "A4 69\n",
      "---------------\n",
      "start: 11.070727891156464 end: 11.430637188208618\n",
      "A4 69\n",
      "---------------\n",
      "start: 11.500297052154195 end: 11.778936507936509\n",
      "G4 67\n",
      "---------------\n",
      "start: 11.836986394557824 end: 12.233009523809525\n",
      "A4 69\n",
      "---------------\n",
      "start: 12.244619501133787 end: 13.231467573696145\n",
      "F4 65\n",
      "---------------\n",
      "start: 12.801898412698414 end: 13.185027664399094\n",
      "C#5 73\n",
      "---------------\n"
     ]
    }
   ],
   "source": [
    "for note in notes:\n",
    "    time = note.end - note.start\n",
    "    print(f\"start: {note.start} end: {note.end}\")\n",
    "    print(pretty_midi.note_number_to_name(note.pitch), note.pitch)\n",
    "    print(\"-\"*15)"
   ]
  },
  {
   "cell_type": "code",
   "execution_count": 7,
   "metadata": {
    "ExecuteTime": {
     "end_time": "2023-11-27T08:19:01.097007500Z",
     "start_time": "2023-11-27T08:19:01.065339300Z"
    },
    "collapsed": false,
    "jupyter": {
     "outputs_hidden": false
    }
   },
   "outputs": [
    {
     "data": {
      "text/plain": [
       "'C4'"
      ]
     },
     "execution_count": 7,
     "metadata": {},
     "output_type": "execute_result"
    }
   ],
   "source": [
    "note = midi_data.instruments[0].notes[0]\n",
    "pretty_midi.note_number_to_name(note.pitch)"
   ]
  },
  {
   "cell_type": "code",
   "execution_count": null,
   "metadata": {},
   "outputs": [],
   "source": []
  },
  {
   "cell_type": "code",
   "execution_count": null,
   "metadata": {},
   "outputs": [],
   "source": []
  }
 ],
 "metadata": {
  "kernelspec": {
   "display_name": "Python 3 (ipykernel)",
   "language": "python",
   "name": "python3"
  },
  "language_info": {
   "codemirror_mode": {
    "name": "ipython",
    "version": 3
   },
   "file_extension": ".py",
   "mimetype": "text/x-python",
   "name": "python",
   "nbconvert_exporter": "python",
   "pygments_lexer": "ipython3",
   "version": "3.10.0"
  }
 },
 "nbformat": 4,
 "nbformat_minor": 4
}
