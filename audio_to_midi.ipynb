{
 "cells": [
  {
   "cell_type": "code",
   "execution_count": 1,
   "metadata": {
    "ExecuteTime": {
     "end_time": "2024-01-16T10:45:08.390843Z",
     "start_time": "2024-01-16T10:44:54.876177700Z"
    }
   },
   "outputs": [
    {
     "name": "stdout",
     "output_type": "stream",
     "text": [
      "WARNING:tensorflow:From C:\\Users\\user\\.virtualenvs\\KIDS\\lib\\site-packages\\keras\\src\\losses.py:2976: The name tf.losses.sparse_softmax_cross_entropy is deprecated. Please use tf.compat.v1.losses.sparse_softmax_cross_entropy instead.\n",
      "\n"
     ]
    }
   ],
   "source": [
    "from basic_pitch.inference import predict\n",
    "import pretty_midi\n",
    "from basic_pitch import ICASSP_2022_MODEL_PATH\n",
    "from IPython.display import Audio"
   ]
  },
  {
   "cell_type": "code",
   "execution_count": 2,
   "metadata": {
    "collapsed": false,
    "jupyter": {
     "outputs_hidden": false
    },
    "ExecuteTime": {
     "end_time": "2024-01-16T10:45:12.211149300Z",
     "start_time": "2024-01-16T10:45:08.391840Z"
    }
   },
   "outputs": [
    {
     "name": "stdout",
     "output_type": "stream",
     "text": [
      "Predicting MIDI for data/forest.m4a...\n"
     ]
    },
    {
     "name": "stderr",
     "output_type": "stream",
     "text": [
      "C:\\Users\\user\\.virtualenvs\\KIDS\\lib\\site-packages\\basic_pitch\\inference.py:89: UserWarning: PySoundFile failed. Trying audioread instead.\n",
      "  audio_original, _ = librosa.load(str(audio_path), sr=AUDIO_SAMPLE_RATE, mono=True)\n",
      "C:\\Users\\user\\.virtualenvs\\KIDS\\lib\\site-packages\\librosa\\core\\audio.py:183: FutureWarning: librosa.core.audio.__audioread_load\n",
      "\tDeprecated as of librosa version 0.10.0.\n",
      "\tIt will be removed in librosa version 1.0.\n",
      "  y, sr_native = __audioread_load(path, offset, duration, dtype)\n"
     ]
    }
   ],
   "source": [
    "model_output, midi_data, note_events = predict(\"data/forest.m4a\")\n"
   ]
  },
  {
   "cell_type": "code",
   "execution_count": 3,
   "metadata": {
    "collapsed": false,
    "jupyter": {
     "outputs_hidden": false
    },
    "ExecuteTime": {
     "end_time": "2024-01-16T10:45:12.226842200Z",
     "start_time": "2024-01-16T10:45:12.215148800Z"
    }
   },
   "outputs": [],
   "source": [
    "def midi_to_notes(midi_data) -> list[pretty_midi.Note]:\n",
    "    notes = []\n",
    "    beats_per_second = midi_data.estimate_tempo() / 60\n",
    "    avg_note_time = 1 / beats_per_second\n",
    "    print(avg_note_time)\n",
    "    for instrument in midi_data.instruments:\n",
    "        for i, note in enumerate(instrument.notes):\n",
    "            note_time = note.end - note.start\n",
    "            if note_time / avg_note_time < 0.1 \\\n",
    "                    and i > 0:\n",
    "                print(note_time / avg_note_time)\n",
    "\n",
    "                print(note.pitch)\n",
    "                if note.pitch == instrument.notes[i - 1].pitch:\n",
    "                    instrument.notes[i - 1].end = note.end\n",
    "                    continue\n",
    "\n",
    "            notes.append(note)\n",
    "            last_note = note\n",
    "\n",
    "    return notes"
   ]
  },
  {
   "cell_type": "code",
   "execution_count": 138,
   "metadata": {
    "collapsed": false,
    "jupyter": {
     "outputs_hidden": false
    },
    "ExecuteTime": {
     "end_time": "2024-01-16T11:59:12.405318100Z",
     "start_time": "2024-01-16T11:59:12.346405700Z"
    }
   },
   "outputs": [
    {
     "name": "stdout",
     "output_type": "stream",
     "text": [
      "0.4008522727272726\n"
     ]
    },
    {
     "data": {
      "text/plain": "[Note(start=0.661364, end=1.090909, pitch=60, velocity=93),\n Note(start=1.102273, end=1.509091, pitch=69, velocity=95),\n Note(start=1.509091, end=1.893182, pitch=69, velocity=93),\n Note(start=1.904545, end=2.240909, pitch=67, velocity=86),\n Note(start=2.288636, end=2.684091, pitch=69, velocity=89),\n Note(start=2.684091, end=3.065909, pitch=65, velocity=89),\n Note(start=3.102273, end=3.506818, pitch=60, velocity=91),\n Note(start=3.506818, end=3.913636, pitch=60, velocity=94),\n Note(start=3.913636, end=4.286364, pitch=60, velocity=89),\n Note(start=4.309091, end=5.100000, pitch=69, velocity=95),\n Note(start=4.854545, end=5.100000, pitch=69, velocity=84),\n Note(start=5.134091, end=5.493182, pitch=70, velocity=91),\n Note(start=5.506818, end=5.865909, pitch=74, velocity=88),\n Note(start=5.959091, end=6.877273, pitch=72, velocity=94),\n Note(start=6.761364, end=6.947727, pitch=67, velocity=54),\n Note(start=7.038636, end=7.445455, pitch=72, velocity=92),\n Note(start=7.468182, end=7.875000, pitch=62, velocity=93),\n Note(start=7.875000, end=8.247727, pitch=62, velocity=91),\n Note(start=8.270455, end=8.677273, pitch=70, velocity=85),\n Note(start=8.677273, end=9.050000, pitch=70, velocity=84),\n Note(start=9.072727, end=9.468182, pitch=69, velocity=95),\n Note(start=9.468182, end=9.827273, pitch=67, velocity=85),\n Note(start=9.861364, end=10.211364, pitch=65, velocity=77),\n Note(start=10.259091, end=10.652273, pitch=60, velocity=86),\n Note(start=10.663636, end=11.070455, pitch=69, velocity=90),\n Note(start=11.070455, end=11.429545, pitch=69, velocity=89),\n Note(start=11.500000, end=11.779545, pitch=67, velocity=81),\n Note(start=11.836364, end=12.234091, pitch=69, velocity=83),\n Note(start=12.802273, end=13.184091, pitch=73, velocity=43),\n Note(start=12.245455, end=13.231818, pitch=65, velocity=98)]"
     },
     "execution_count": 138,
     "metadata": {},
     "output_type": "execute_result"
    }
   ],
   "source": [
    "midi_data = pretty_midi.PrettyMIDI(\"path_to_new_midi_file.mid\")\n",
    "notes = midi_to_notes(midi_data)\n",
    "notes\n"
   ]
  },
  {
   "cell_type": "code",
   "execution_count": 139,
   "metadata": {
    "collapsed": false,
    "jupyter": {
     "outputs_hidden": false
    },
    "ExecuteTime": {
     "end_time": "2024-01-16T11:59:23.180383100Z",
     "start_time": "2024-01-16T11:59:22.681221300Z"
    }
   },
   "outputs": [],
   "source": [
    "import numpy as np\n",
    "from bokeh.layouts import layout\n",
    "from bokeh.models import Div\n",
    "from bokeh.plotting import figure, show\n",
    "\n",
    "# create a plot demonstrating a sine wave\n",
    "p1 = figure(height=300)\n",
    "\n",
    "p1.xaxis.fixed_location = 0\n",
    "\n",
    "# create a plot demonstrating a cosine wave\n",
    "p2 = figure(height=300)\n",
    "\n",
    "for note in notes:\n",
    "    p1.line((note.start, note.end), note.pitch, line_width=7, line_color=\"darkgreen\")\n",
    "\n",
    "for i, note in enumerate(notes):\n",
    "    if i % 3 == 0:\n",
    "        p2.line((note.start, note.end), note.pitch + i % 6 + 1, line_width=7, line_color=\"red\")\n",
    "        continue\n",
    "    p2.line((note.start, note.end), note.pitch, line_width=7, line_color=\"darkgreen\")\n",
    "\n",
    "p2.xaxis.fixed_location = 0\n",
    "\n",
    "# define the layout\n",
    "layout = layout(\n",
    "    [\n",
    "        p1,\n",
    "        p2,\n",
    "    ],\n",
    "    sizing_mode=\"stretch_width\",\n",
    ")\n",
    "\n",
    "show(layout)"
   ]
  },
  {
   "cell_type": "code",
   "execution_count": 6,
   "metadata": {
    "ExecuteTime": {
     "end_time": "2023-12-22T16:25:47.489935500Z",
     "start_time": "2023-12-22T16:25:47.376478Z"
    },
    "collapsed": false,
    "jupyter": {
     "outputs_hidden": false
    }
   },
   "outputs": [
    {
     "name": "stdout",
     "output_type": "stream",
     "text": [
      "start: 0.6617687074829932 end: 1.0913378684807256\n",
      "C4 60\n",
      "---------------\n",
      "start: 1.1029478458049886 end: 1.509297052154195\n",
      "A4 69\n",
      "---------------\n",
      "start: 1.509297052154195 end: 1.8924263038548752\n",
      "A4 69\n",
      "---------------\n",
      "start: 1.9040362811791383 end: 2.2420095238095237\n",
      "G4 67\n",
      "---------------\n",
      "start: 2.288449433106576 end: 2.6831886621315193\n",
      "A4 69\n",
      "---------------\n",
      "start: 2.6831886621315193 end: 3.0663179138321994\n",
      "F4 65\n",
      "---------------\n",
      "start: 3.1011478458049884 end: 3.507497052154195\n",
      "C4 60\n",
      "---------------\n",
      "start: 3.507497052154195 end: 3.9138462585034013\n",
      "C4 60\n",
      "---------------\n",
      "start: 3.9138462585034013 end: 4.286649433106576\n",
      "C4 60\n",
      "---------------\n",
      "start: 4.309869387755102 end: 4.855538321995465\n",
      "A4 69\n",
      "---------------\n",
      "start: 4.855538321995465 end: 5.099347845804989\n",
      "A4 69\n",
      "---------------\n",
      "start: 5.1341777777777775 end: 5.494087074829932\n",
      "A#4 70\n",
      "---------------\n",
      "start: 5.505697052154195 end: 5.865606349206349\n",
      "D5 74\n",
      "---------------\n",
      "start: 5.958486167800453 end: 6.876958276643991\n",
      "C5 72\n",
      "---------------\n",
      "start: 6.76085850340136 end: 6.946618140589569\n",
      "G4 67\n",
      "---------------\n",
      "start: 7.039497959183674 end: 7.44584716553288\n",
      "C5 72\n",
      "---------------\n",
      "start: 7.469067120181406 end: 7.875416326530613\n",
      "D4 62\n",
      "---------------\n",
      "start: 7.875416326530613 end: 8.248219501133786\n",
      "D4 62\n",
      "---------------\n",
      "start: 8.271439455782312 end: 8.677788662131519\n",
      "A#4 70\n",
      "---------------\n",
      "start: 8.677788662131519 end: 9.049307936507937\n",
      "A#4 70\n",
      "---------------\n",
      "start: 9.072527891156462 end: 9.467267120181406\n",
      "A4 69\n",
      "---------------\n",
      "start: 9.467267120181406 end: 9.82717641723356\n",
      "G4 67\n",
      "---------------\n",
      "start: 9.862006349206348 end: 10.211589569161\n",
      "F4 65\n",
      "---------------\n",
      "start: 10.25802947845805 end: 10.652768707482995\n",
      "C4 60\n",
      "---------------\n",
      "start: 10.664378684807257 end: 11.070727891156464\n",
      "A4 69\n",
      "---------------\n",
      "start: 11.070727891156464 end: 11.430637188208618\n",
      "A4 69\n",
      "---------------\n",
      "start: 11.500297052154195 end: 11.778936507936509\n",
      "G4 67\n",
      "---------------\n",
      "start: 11.836986394557824 end: 12.233009523809525\n",
      "A4 69\n",
      "---------------\n",
      "start: 12.244619501133787 end: 13.231467573696145\n",
      "F4 65\n",
      "---------------\n",
      "start: 12.801898412698414 end: 13.185027664399094\n",
      "C#5 73\n",
      "---------------\n"
     ]
    }
   ],
   "source": [
    "for note in notes:\n",
    "    time = note.end - note.start\n",
    "    print(f\"start: {note.start} end: {note.end}\")\n",
    "    print(pretty_midi.note_number_to_name(note.pitch), note.pitch)\n",
    "    print(\"-\" * 15)"
   ]
  },
  {
   "cell_type": "code",
   "execution_count": 7,
   "metadata": {
    "ExecuteTime": {
     "end_time": "2023-11-27T08:19:01.097007500Z",
     "start_time": "2023-11-27T08:19:01.065339300Z"
    },
    "collapsed": false,
    "jupyter": {
     "outputs_hidden": false
    }
   },
   "outputs": [
    {
     "data": {
      "text/plain": [
       "'C4'"
      ]
     },
     "execution_count": 7,
     "metadata": {},
     "output_type": "execute_result"
    }
   ],
   "source": [
    "note = midi_data.instruments[0].notes[0]\n",
    "pretty_midi.note_number_to_name(note.pitch)"
   ]
  },
  {
   "cell_type": "markdown",
   "source": [
    "# Music21"
   ],
   "metadata": {
    "collapsed": false
   }
  },
  {
   "cell_type": "code",
   "execution_count": 7,
   "metadata": {
    "ExecuteTime": {
     "end_time": "2024-01-16T10:47:24.821227800Z",
     "start_time": "2024-01-16T10:47:24.439518900Z"
    }
   },
   "outputs": [],
   "source": [
    "import os\n",
    "from PIL import Image\n",
    "from music21 import *\n",
    "from music21.note import Note as Note21"
   ]
  },
  {
   "cell_type": "code",
   "execution_count": 8,
   "outputs": [
    {
     "name": "stdout",
     "output_type": "stream",
     "text": [
      "Path to music21 environment C:\\Users\\user\\AppData\\Roaming\\music21-settings.xml\n",
      "{'directoryScratch': None, 'lilypondPath': 'E:\\\\AI Talent Hub\\\\SymphonicMasks\\\\KIDS\\\\lilypond', 'lilypondVersion': None, 'lilypondFormat': 'pdf', 'lilypondBackend': 'ps', 'musicxmlPath': 'C:\\\\Program Files\\\\MuseScore 4\\\\bin\\\\MuseScore4.exe', 'midiPath': None, 'graphicsPath': None, 'vectorPath': None, 'pdfPath': None, 'braillePath': None, 'musescoreDirectPNGPath': 'C:\\\\Program Files\\\\MuseScore 4\\\\bin\\\\MuseScore4.exe', 'showFormat': 'musicxml', 'writeFormat': 'musicxml', 'ipythonShowFormat': 'ipython.musicxml.png', 'autoDownload': 'ask', 'debug': '0', 'warnings': '1', 'localCorpusSettings': LocalCorpusSettings([]), 'localCorporaSettings': {}, 'manualCoreCorpusPath': None}\n"
     ]
    }
   ],
   "source": [
    "us = environment.UserSettings()\n",
    "us_path = us.getSettingsPath()\n",
    "if not os.path.exists(us_path):\n",
    "    us.create()\n",
    "print('Path to music21 environment', us_path)\n",
    "print(us)"
   ],
   "metadata": {
    "collapsed": false,
    "ExecuteTime": {
     "end_time": "2024-01-16T10:47:24.836705Z",
     "start_time": "2024-01-16T10:47:24.824740800Z"
    }
   }
  },
  {
   "cell_type": "code",
   "execution_count": 9,
   "outputs": [],
   "source": [
    "us['musescoreDirectPNGPath'] = r'C:\\Program Files\\MuseScore 4\\bin\\MuseScore4.exe'\n",
    "us['musicxmlPath'] = r'C:\\Program Files\\MuseScore 4\\bin\\MuseScore4.exe'"
   ],
   "metadata": {
    "collapsed": false,
    "ExecuteTime": {
     "end_time": "2024-01-16T10:47:25.564191200Z",
     "start_time": "2024-01-16T10:47:25.541411600Z"
    }
   }
  },
  {
   "cell_type": "markdown",
   "source": [
    "## Midi to score"
   ],
   "metadata": {
    "collapsed": false
   }
  },
  {
   "cell_type": "code",
   "execution_count": 43,
   "outputs": [
    {
     "name": "stdout",
     "output_type": "stream",
     "text": [
      "Predicting MIDI for data/forest.m4a...\n"
     ]
    },
    {
     "name": "stderr",
     "output_type": "stream",
     "text": [
      "C:\\Users\\user\\.virtualenvs\\KIDS\\lib\\site-packages\\basic_pitch\\inference.py:89: UserWarning: PySoundFile failed. Trying audioread instead.\n",
      "  audio_original, _ = librosa.load(str(audio_path), sr=AUDIO_SAMPLE_RATE, mono=True)\n",
      "C:\\Users\\user\\.virtualenvs\\KIDS\\lib\\site-packages\\librosa\\core\\audio.py:183: FutureWarning: librosa.core.audio.__audioread_load\n",
      "\tDeprecated as of librosa version 0.10.0.\n",
      "\tIt will be removed in librosa version 1.0.\n",
      "  y, sr_native = __audioread_load(path, offset, duration, dtype)\n"
     ]
    }
   ],
   "source": [
    "model_output, midi_data, note_events = predict(\"data/forest.m4a\")"
   ],
   "metadata": {
    "collapsed": false,
    "ExecuteTime": {
     "end_time": "2024-01-15T09:32:38.315309100Z",
     "start_time": "2024-01-15T09:32:36.645218600Z"
    }
   }
  },
  {
   "cell_type": "code",
   "execution_count": 51,
   "outputs": [
    {
     "name": "stdout",
     "output_type": "stream",
     "text": [
      "0.4008651927437641\n",
      "tempo: 149.6762529800197\n",
      "a ONE time: 0.4\n",
      "1\n",
      "1\n",
      "1\n",
      "1\n",
      "1\n",
      "1\n",
      "1\n",
      "1\n",
      "1\n",
      "1\n",
      "0.5\n",
      "1\n",
      "1\n",
      "2\n",
      "0.5\n",
      "1\n",
      "1\n",
      "1\n",
      "1\n",
      "1\n",
      "1\n",
      "1\n",
      "1\n",
      "1\n",
      "1\n",
      "1\n",
      "0.5\n",
      "1\n",
      "2\n",
      "1\n"
     ]
    }
   ],
   "source": [
    "notes = midi_to_notes(midi_data)\n",
    "tempo = midi_data.estimate_tempo()\n",
    "notes_in_one_sec = tempo / 60\n",
    "one_time = round(1 / notes_in_one_sec, 2)\n",
    "\n",
    "print(\"tempo:\", tempo)\n",
    "print(\"a ONE time:\", one_time)\n",
    "\n",
    "m21_notes = []\n",
    "stream1 = stream.Stream()\n",
    "\n",
    "start_time = notes[0].start\n",
    "for _note in notes:\n",
    "    options = [0.25, 0.5, 1, 2, 3, 4]\n",
    "\n",
    "    name = pretty_midi.note_number_to_name(_note.pitch)\n",
    "    note_fraction = (_note.end - _note.start) / one_time\n",
    "\n",
    "    note_fraction = min(options, key=lambda x: abs(x - note_fraction))\n",
    "    m21_note = Note21(name, quarterLength=note_fraction)\n",
    "\n",
    "    m21_notes.append(m21_note)\n",
    "    stream1.append(m21_note)"
   ],
   "metadata": {
    "collapsed": false,
    "ExecuteTime": {
     "end_time": "2024-01-16T11:01:18.684797400Z",
     "start_time": "2024-01-16T11:01:18.652248100Z"
    }
   }
  },
  {
   "cell_type": "code",
   "execution_count": 52,
   "outputs": [
    {
     "data": {
      "image/png": "[encoded data removed]",
      "text/plain": "<IPython.core.display.Image object>"
     },
     "metadata": {
      "image/png": {
       "width": 732,
       "height": 238
      }
     },
     "output_type": "display_data"
    }
   ],
   "source": [
    "stream1.show()"
   ],
   "metadata": {
    "collapsed": false,
    "ExecuteTime": {
     "end_time": "2024-01-16T11:01:20.269418500Z",
     "start_time": "2024-01-16T11:01:19.297997500Z"
    }
   }
  },
  {
   "cell_type": "code",
   "execution_count": 188,
   "outputs": [
    {
     "name": "stdout",
     "output_type": "stream",
     "text": [
      "Current Tempo: 149.68107725017722 BPM\n"
     ]
    }
   ],
   "source": [
    "import pretty_midi\n",
    "\n",
    "input_midi_file = 'forest.midi'\n",
    "\n",
    "midi_data = pretty_midi.PrettyMIDI(input_midi_file)\n",
    "\n",
    "current_tempo = midi_data.estimate_tempo()\n",
    "\n",
    "print(f\"Current Tempo: {current_tempo} BPM\")\n",
    "\n",
    "new_tempo = current_tempo * 60/150\n",
    "\n",
    "for instrument in midi_data.instruments:\n",
    "    for note in instrument.notes:\n",
    "        note.start *= 150//60  # Adjust note start times to reflect the new tempo\n",
    "        note.end *= 150//60  # Adjust note end times to reflect the new tempo\n",
    "\n",
    "# Save the modified MIDI file\n",
    "output_midi_file = 'your_output_file.mid'\n",
    "midi_data.write(output_midi_file)\n"
   ],
   "metadata": {
    "collapsed": false,
    "ExecuteTime": {
     "end_time": "2024-01-16T12:23:32.235628200Z",
     "start_time": "2024-01-16T12:23:32.174780300Z"
    }
   }
  }
 ],
 "metadata": {
  "kernelspec": {
   "display_name": "Python 3 (ipykernel)",
   "language": "python",
   "name": "python3"
  },
  "language_info": {
   "codemirror_mode": {
    "name": "ipython",
    "version": 3
   },
   "file_extension": ".py",
   "mimetype": "text/x-python",
   "name": "python",
   "nbconvert_exporter": "python",
   "pygments_lexer": "ipython3",
   "version": "3.10.0"
  }
 },
 "nbformat": 4,
 "nbformat_minor": 4
}
